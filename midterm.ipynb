{
 "cells": [
  {
   "cell_type": "markdown",
   "id": "86b36ed9-f836-4ce2-9b7f-42ae48e80040",
   "metadata": {},
   "source": [
    "### 9번 문제"
   ]
  },
  {
   "cell_type": "code",
   "execution_count": 6,
   "id": "48b75968-7d4e-4b03-85ce-8a7f7c2fb679",
   "metadata": {},
   "outputs": [],
   "source": [
    "import numpy as np\n",
    "import pandas as pd\n",
    "from pandas import Series, DataFrame"
   ]
  },
  {
   "cell_type": "code",
   "execution_count": 12,
   "id": "38b67829-1502-40f1-b006-98e8612c9e21",
   "metadata": {},
   "outputs": [],
   "source": [
    "import numpy as np\n",
    "import pandas as pd\n",
    "pd.options.display.max_rows = 20\n",
    "pd.options.display.max_colwidth = 80\n",
    "pd.options.display.max_columns = 20\n",
    "np.random.seed(12345)\n",
    "import matplotlib.pyplot as plt\n",
    "plt.rc(\"figure\", figsize=(10, 6))\n",
    "np.set_printoptions(precision=4, suppress=True)"
   ]
  },
  {
   "cell_type": "code",
   "execution_count": 7,
   "id": "624b2c29-a61e-4bf2-9bab-0e6840357da4",
   "metadata": {},
   "outputs": [
    {
     "data": {
      "text/html": [
       "<div>\n",
       "<style scoped>\n",
       "    .dataframe tbody tr th:only-of-type {\n",
       "        vertical-align: middle;\n",
       "    }\n",
       "\n",
       "    .dataframe tbody tr th {\n",
       "        vertical-align: top;\n",
       "    }\n",
       "\n",
       "    .dataframe thead th {\n",
       "        text-align: right;\n",
       "    }\n",
       "</style>\n",
       "<table border=\"1\" class=\"dataframe\">\n",
       "  <thead>\n",
       "    <tr style=\"text-align: right;\">\n",
       "      <th></th>\n",
       "      <th>이름</th>\n",
       "      <th>나이</th>\n",
       "      <th>성별</th>\n",
       "    </tr>\n",
       "  </thead>\n",
       "  <tbody>\n",
       "    <tr>\n",
       "      <th>0</th>\n",
       "      <td>철수</td>\n",
       "      <td>25</td>\n",
       "      <td>남자</td>\n",
       "    </tr>\n",
       "    <tr>\n",
       "      <th>1</th>\n",
       "      <td>영희</td>\n",
       "      <td>30</td>\n",
       "      <td>여자</td>\n",
       "    </tr>\n",
       "    <tr>\n",
       "      <th>2</th>\n",
       "      <td>민수</td>\n",
       "      <td>22</td>\n",
       "      <td>남자</td>\n",
       "    </tr>\n",
       "    <tr>\n",
       "      <th>3</th>\n",
       "      <td>지영</td>\n",
       "      <td>28</td>\n",
       "      <td>여자</td>\n",
       "    </tr>\n",
       "  </tbody>\n",
       "</table>\n",
       "</div>"
      ],
      "text/plain": [
       "   이름  나이  성별\n",
       "0  철수  25  남자\n",
       "1  영희  30  여자\n",
       "2  민수  22  남자\n",
       "3  지영  28  여자"
      ]
     },
     "execution_count": 7,
     "metadata": {},
     "output_type": "execute_result"
    }
   ],
   "source": [
    "data = { \n",
    "    \"이름\": ['철수', '영희', '민수', '지영'], \n",
    "    \"나이\": [25, 30, 22, 28], \n",
    "    \"성별\": ['남자', '여자', '남자', '여자'] }\n",
    "frame = pd.DataFrame(data)\n",
    "frame"
   ]
  },
  {
   "cell_type": "markdown",
   "id": "9fc2e5ff-d7bf-4cc0-8bb1-18b951a1c6a6",
   "metadata": {},
   "source": [
    "### 10번 문제"
   ]
  },
  {
   "cell_type": "code",
   "execution_count": 8,
   "id": "294c1d19-6f68-42ff-94c8-73a365af07ac",
   "metadata": {},
   "outputs": [
    {
     "data": {
      "text/html": [
       "<div>\n",
       "<style scoped>\n",
       "    .dataframe tbody tr th:only-of-type {\n",
       "        vertical-align: middle;\n",
       "    }\n",
       "\n",
       "    .dataframe tbody tr th {\n",
       "        vertical-align: top;\n",
       "    }\n",
       "\n",
       "    .dataframe thead th {\n",
       "        text-align: right;\n",
       "    }\n",
       "</style>\n",
       "<table border=\"1\" class=\"dataframe\">\n",
       "  <thead>\n",
       "    <tr style=\"text-align: right;\">\n",
       "      <th></th>\n",
       "      <th>col1</th>\n",
       "      <th>col2</th>\n",
       "    </tr>\n",
       "  </thead>\n",
       "  <tbody>\n",
       "    <tr>\n",
       "      <th>0</th>\n",
       "      <td>a</td>\n",
       "      <td>1</td>\n",
       "    </tr>\n",
       "    <tr>\n",
       "      <th>1</th>\n",
       "      <td>b</td>\n",
       "      <td>2</td>\n",
       "    </tr>\n",
       "    <tr>\n",
       "      <th>2</th>\n",
       "      <td>c</td>\n",
       "      <td>3</td>\n",
       "    </tr>\n",
       "  </tbody>\n",
       "</table>\n",
       "</div>"
      ],
      "text/plain": [
       "  col1  col2\n",
       "0    a     1\n",
       "1    b     2\n",
       "2    c     3"
      ]
     },
     "execution_count": 8,
     "metadata": {},
     "output_type": "execute_result"
    }
   ],
   "source": [
    "data = {\n",
    "    \"col1\": ['a', 'b', 'c'],\n",
    "    \"col2\": [1, 2, 3]}\n",
    "frame = pd.DataFrame(data)\n",
    "frame"
   ]
  },
  {
   "cell_type": "code",
   "execution_count": 9,
   "id": "4b280158-0e41-465d-ad0d-23583d08afe8",
   "metadata": {},
   "outputs": [
    {
     "data": {
      "text/html": [
       "<div>\n",
       "<style scoped>\n",
       "    .dataframe tbody tr th:only-of-type {\n",
       "        vertical-align: middle;\n",
       "    }\n",
       "\n",
       "    .dataframe tbody tr th {\n",
       "        vertical-align: top;\n",
       "    }\n",
       "\n",
       "    .dataframe thead th {\n",
       "        text-align: right;\n",
       "    }\n",
       "</style>\n",
       "<table border=\"1\" class=\"dataframe\">\n",
       "  <thead>\n",
       "    <tr style=\"text-align: right;\">\n",
       "      <th></th>\n",
       "      <th>col1</th>\n",
       "      <th>col2</th>\n",
       "    </tr>\n",
       "  </thead>\n",
       "  <tbody>\n",
       "    <tr>\n",
       "      <th>0</th>\n",
       "      <td>a</td>\n",
       "      <td>1</td>\n",
       "    </tr>\n",
       "    <tr>\n",
       "      <th>1</th>\n",
       "      <td>b</td>\n",
       "      <td>2</td>\n",
       "    </tr>\n",
       "    <tr>\n",
       "      <th>2</th>\n",
       "      <td>c</td>\n",
       "      <td>3</td>\n",
       "    </tr>\n",
       "  </tbody>\n",
       "</table>\n",
       "</div>"
      ],
      "text/plain": [
       "  col1  col2\n",
       "0    a     1\n",
       "1    b     2\n",
       "2    c     3"
      ]
     },
     "execution_count": 9,
     "metadata": {},
     "output_type": "execute_result"
    }
   ],
   "source": [
    " frame.loc[:2, 'col1':'col2']"
   ]
  },
  {
   "cell_type": "markdown",
   "id": "0522a181-f380-46ab-92da-0800c95420b6",
   "metadata": {},
   "source": [
    "### 12번 문제"
   ]
  },
  {
   "cell_type": "code",
   "execution_count": 17,
   "id": "a9b9acc4-c687-489b-a4a0-afaae593a290",
   "metadata": {},
   "outputs": [
    {
     "name": "stdout",
     "output_type": "stream",
     "text": [
      "  col1  col2\n",
      "0    a     1\n",
      "1    b     2\n",
      "2    c     3 \n",
      "\n",
      "   col3  col4\n",
      "0    a    10\n",
      "1    b    20\n",
      "2    f    30\n"
     ]
    },
    {
     "data": {
      "text/html": [
       "<div>\n",
       "<style scoped>\n",
       "    .dataframe tbody tr th:only-of-type {\n",
       "        vertical-align: middle;\n",
       "    }\n",
       "\n",
       "    .dataframe tbody tr th {\n",
       "        vertical-align: top;\n",
       "    }\n",
       "\n",
       "    .dataframe thead th {\n",
       "        text-align: right;\n",
       "    }\n",
       "</style>\n",
       "<table border=\"1\" class=\"dataframe\">\n",
       "  <thead>\n",
       "    <tr style=\"text-align: right;\">\n",
       "      <th></th>\n",
       "      <th>col1</th>\n",
       "      <th>col2</th>\n",
       "      <th>col3</th>\n",
       "      <th>col4</th>\n",
       "    </tr>\n",
       "  </thead>\n",
       "  <tbody>\n",
       "    <tr>\n",
       "      <th>0</th>\n",
       "      <td>a</td>\n",
       "      <td>1.0</td>\n",
       "      <td>a</td>\n",
       "      <td>10.0</td>\n",
       "    </tr>\n",
       "    <tr>\n",
       "      <th>1</th>\n",
       "      <td>b</td>\n",
       "      <td>2.0</td>\n",
       "      <td>b</td>\n",
       "      <td>20.0</td>\n",
       "    </tr>\n",
       "    <tr>\n",
       "      <th>2</th>\n",
       "      <td>c</td>\n",
       "      <td>3.0</td>\n",
       "      <td>NaN</td>\n",
       "      <td>NaN</td>\n",
       "    </tr>\n",
       "    <tr>\n",
       "      <th>3</th>\n",
       "      <td>NaN</td>\n",
       "      <td>NaN</td>\n",
       "      <td>f</td>\n",
       "      <td>30.0</td>\n",
       "    </tr>\n",
       "  </tbody>\n",
       "</table>\n",
       "</div>"
      ],
      "text/plain": [
       "  col1  col2 col3  col4\n",
       "0    a   1.0    a  10.0\n",
       "1    b   2.0    b  20.0\n",
       "2    c   3.0  NaN   NaN\n",
       "3  NaN   NaN    f  30.0"
      ]
     },
     "execution_count": 17,
     "metadata": {},
     "output_type": "execute_result"
    }
   ],
   "source": [
    "df1 = pd.DataFrame({\"col1\": [\"a\", \"b\", \"c\"],\n",
    "                    \"col2\": [1, 2, 3]})\n",
    "df2 = pd.DataFrame({\"col3\": [\"a\", \"b\", \"f\"],\n",
    "                    \"col4\": [10, 20, 30]})\n",
    "print(df1,\"\\n\\n\", df2)\n",
    "\n",
    "pd.merge(df1, df2, left_on=\"col1\", right_on=\"col3\", how=\"outer\")"
   ]
  },
  {
   "cell_type": "markdown",
   "id": "6bfea3d8-06eb-4a0a-a939-0ca21da6e95a",
   "metadata": {},
   "source": [
    "### 13번 문제"
   ]
  },
  {
   "cell_type": "code",
   "execution_count": 19,
   "id": "083dd19e-4cf8-466b-a596-66acdbfdf318",
   "metadata": {},
   "outputs": [
    {
     "data": {
      "text/html": [
       "<div>\n",
       "<style scoped>\n",
       "    .dataframe tbody tr th:only-of-type {\n",
       "        vertical-align: middle;\n",
       "    }\n",
       "\n",
       "    .dataframe tbody tr th {\n",
       "        vertical-align: top;\n",
       "    }\n",
       "\n",
       "    .dataframe thead th {\n",
       "        text-align: right;\n",
       "    }\n",
       "</style>\n",
       "<table border=\"1\" class=\"dataframe\">\n",
       "  <thead>\n",
       "    <tr style=\"text-align: right;\">\n",
       "      <th></th>\n",
       "      <th>name</th>\n",
       "      <th>score</th>\n",
       "    </tr>\n",
       "  </thead>\n",
       "  <tbody>\n",
       "    <tr>\n",
       "      <th>0</th>\n",
       "      <td>철수</td>\n",
       "      <td>75</td>\n",
       "    </tr>\n",
       "    <tr>\n",
       "      <th>1</th>\n",
       "      <td>영희</td>\n",
       "      <td>88</td>\n",
       "    </tr>\n",
       "    <tr>\n",
       "      <th>2</th>\n",
       "      <td>민수</td>\n",
       "      <td>92</td>\n",
       "    </tr>\n",
       "    <tr>\n",
       "      <th>3</th>\n",
       "      <td>지영</td>\n",
       "      <td>68</td>\n",
       "    </tr>\n",
       "  </tbody>\n",
       "</table>\n",
       "</div>"
      ],
      "text/plain": [
       "  name  score\n",
       "0   철수     75\n",
       "1   영희     88\n",
       "2   민수     92\n",
       "3   지영     68"
      ]
     },
     "execution_count": 19,
     "metadata": {},
     "output_type": "execute_result"
    }
   ],
   "source": [
    "data = {\n",
    "    \"name\": ['철수', '영희', '민수', '지영'],\n",
    "    \"score\": [75, 88, 92, 68]}\n",
    "df = pd.DataFrame(data)\n",
    "df"
   ]
  },
  {
   "cell_type": "code",
   "execution_count": 35,
   "id": "c1456785-7ebe-45c3-880c-115b8d982369",
   "metadata": {},
   "outputs": [
    {
     "data": {
      "text/html": [
       "<div>\n",
       "<style scoped>\n",
       "    .dataframe tbody tr th:only-of-type {\n",
       "        vertical-align: middle;\n",
       "    }\n",
       "\n",
       "    .dataframe tbody tr th {\n",
       "        vertical-align: top;\n",
       "    }\n",
       "\n",
       "    .dataframe thead th {\n",
       "        text-align: right;\n",
       "    }\n",
       "</style>\n",
       "<table border=\"1\" class=\"dataframe\">\n",
       "  <thead>\n",
       "    <tr style=\"text-align: right;\">\n",
       "      <th></th>\n",
       "      <th>names</th>\n",
       "      <th>score</th>\n",
       "    </tr>\n",
       "  </thead>\n",
       "  <tbody>\n",
       "    <tr>\n",
       "      <th>1</th>\n",
       "      <td>영희</td>\n",
       "      <td>88</td>\n",
       "    </tr>\n",
       "    <tr>\n",
       "      <th>2</th>\n",
       "      <td>민수</td>\n",
       "      <td>92</td>\n",
       "    </tr>\n",
       "    <tr>\n",
       "      <th>4</th>\n",
       "      <td>다현</td>\n",
       "      <td>95</td>\n",
       "    </tr>\n",
       "  </tbody>\n",
       "</table>\n",
       "</div>"
      ],
      "text/plain": [
       "  names  score\n",
       "1    영희     88\n",
       "2    민수     92\n",
       "4    다현     95"
      ]
     },
     "execution_count": 35,
     "metadata": {},
     "output_type": "execute_result"
    }
   ],
   "source": [
    "df1 = df[df['score'] >= 80]\n",
    "df1"
   ]
  },
  {
   "cell_type": "markdown",
   "id": "dcf3441d-54b4-4191-a359-a1fb3700151f",
   "metadata": {},
   "source": [
    "### 16번 문제"
   ]
  },
  {
   "cell_type": "code",
   "execution_count": 22,
   "id": "1f024bba-425d-4615-a4bb-2574b56c439a",
   "metadata": {},
   "outputs": [
    {
     "data": {
      "text/html": [
       "<div>\n",
       "<style scoped>\n",
       "    .dataframe tbody tr th:only-of-type {\n",
       "        vertical-align: middle;\n",
       "    }\n",
       "\n",
       "    .dataframe tbody tr th {\n",
       "        vertical-align: top;\n",
       "    }\n",
       "\n",
       "    .dataframe thead th {\n",
       "        text-align: right;\n",
       "    }\n",
       "</style>\n",
       "<table border=\"1\" class=\"dataframe\">\n",
       "  <thead>\n",
       "    <tr style=\"text-align: right;\">\n",
       "      <th></th>\n",
       "      <th>col1</th>\n",
       "      <th>col2</th>\n",
       "    </tr>\n",
       "  </thead>\n",
       "  <tbody>\n",
       "    <tr>\n",
       "      <th>0</th>\n",
       "      <td>1</td>\n",
       "      <td>4</td>\n",
       "    </tr>\n",
       "    <tr>\n",
       "      <th>1</th>\n",
       "      <td>2</td>\n",
       "      <td>5</td>\n",
       "    </tr>\n",
       "    <tr>\n",
       "      <th>2</th>\n",
       "      <td>3</td>\n",
       "      <td>6</td>\n",
       "    </tr>\n",
       "  </tbody>\n",
       "</table>\n",
       "</div>"
      ],
      "text/plain": [
       "   col1  col2\n",
       "0     1     4\n",
       "1     2     5\n",
       "2     3     6"
      ]
     },
     "execution_count": 22,
     "metadata": {},
     "output_type": "execute_result"
    }
   ],
   "source": [
    "df = pd.DataFrame({\"col1\": [1, 2, 3],\n",
    "                    \"col2\": [4, 5, 6]})\n",
    "df"
   ]
  },
  {
   "cell_type": "code",
   "execution_count": 23,
   "id": "f0c7ff0b-6e03-4b6a-bc05-f367ff4516d8",
   "metadata": {},
   "outputs": [
    {
     "data": {
      "text/plain": [
       "0    5\n",
       "1    7\n",
       "2    9\n",
       "dtype: int64"
      ]
     },
     "execution_count": 23,
     "metadata": {},
     "output_type": "execute_result"
    }
   ],
   "source": [
    "df.apply(lambda row: row['col1'] + row['col2'], axis=\"columns\") "
   ]
  },
  {
   "cell_type": "markdown",
   "id": "8d51a30a-f6cd-4b72-ad53-54ff5dc7a0a4",
   "metadata": {},
   "source": [
    "### 17번 문제"
   ]
  },
  {
   "cell_type": "code",
   "execution_count": 28,
   "id": "9859da31-e788-4cce-a224-e879714e3afe",
   "metadata": {},
   "outputs": [],
   "source": [
    "df1 = pd.DataFrame({\"names\": ['철수', '영희', '민수'],\n",
    "                    \"score\": [75, 88, 92] })\n",
    "\n",
    "df2 = pd.DataFrame({\"names\": ['지영', '다현'],\n",
    "                    \"score\": [68, 95]})"
   ]
  },
  {
   "cell_type": "code",
   "execution_count": 29,
   "id": "7e712144-7261-4d6e-8657-35ecb76f7e75",
   "metadata": {},
   "outputs": [
    {
     "data": {
      "text/html": [
       "<div>\n",
       "<style scoped>\n",
       "    .dataframe tbody tr th:only-of-type {\n",
       "        vertical-align: middle;\n",
       "    }\n",
       "\n",
       "    .dataframe tbody tr th {\n",
       "        vertical-align: top;\n",
       "    }\n",
       "\n",
       "    .dataframe thead th {\n",
       "        text-align: right;\n",
       "    }\n",
       "</style>\n",
       "<table border=\"1\" class=\"dataframe\">\n",
       "  <thead>\n",
       "    <tr style=\"text-align: right;\">\n",
       "      <th></th>\n",
       "      <th>names</th>\n",
       "      <th>score</th>\n",
       "    </tr>\n",
       "  </thead>\n",
       "  <tbody>\n",
       "    <tr>\n",
       "      <th>0</th>\n",
       "      <td>철수</td>\n",
       "      <td>75</td>\n",
       "    </tr>\n",
       "    <tr>\n",
       "      <th>1</th>\n",
       "      <td>영희</td>\n",
       "      <td>88</td>\n",
       "    </tr>\n",
       "    <tr>\n",
       "      <th>2</th>\n",
       "      <td>민수</td>\n",
       "      <td>92</td>\n",
       "    </tr>\n",
       "    <tr>\n",
       "      <th>3</th>\n",
       "      <td>지영</td>\n",
       "      <td>68</td>\n",
       "    </tr>\n",
       "    <tr>\n",
       "      <th>4</th>\n",
       "      <td>다현</td>\n",
       "      <td>95</td>\n",
       "    </tr>\n",
       "  </tbody>\n",
       "</table>\n",
       "</div>"
      ],
      "text/plain": [
       "  names  score\n",
       "0    철수     75\n",
       "1    영희     88\n",
       "2    민수     92\n",
       "3    지영     68\n",
       "4    다현     95"
      ]
     },
     "execution_count": 29,
     "metadata": {},
     "output_type": "execute_result"
    }
   ],
   "source": [
    "dataframe_list = [df1, df2]\n",
    "pd.concat(dataframe_list, axis=\"index\") #pd.concat(dataframe_list)\n",
    "# 인덱스 재설정\n",
    "df = pd.concat(dataframe_list, ignore_index=True)\n",
    "df"
   ]
  },
  {
   "cell_type": "markdown",
   "id": "cf2434ef-e7b1-4772-9ebb-32e4672cf6d4",
   "metadata": {},
   "source": [
    "### 18번 문제"
   ]
  },
  {
   "cell_type": "code",
   "execution_count": 36,
   "id": "9926e24d-9141-477d-a9f7-a298b18d5b89",
   "metadata": {},
   "outputs": [],
   "source": [
    "df1 = pd.DataFrame({\"names\": ['철수', '영희', '민수'],\n",
    "                    \"score\": [75, 88, 92] })\n",
    "\n",
    "df2 = pd.DataFrame({\"names\": ['영희', '철수', '지영', '다현'],\n",
    "                    \"attendence_rate\": [90, 80, 95, 85]})"
   ]
  },
  {
   "cell_type": "code",
   "execution_count": 38,
   "id": "f34a78f0-f1d4-47c2-ae1c-864c5bbd1f80",
   "metadata": {},
   "outputs": [
    {
     "data": {
      "text/html": [
       "<div>\n",
       "<style scoped>\n",
       "    .dataframe tbody tr th:only-of-type {\n",
       "        vertical-align: middle;\n",
       "    }\n",
       "\n",
       "    .dataframe tbody tr th {\n",
       "        vertical-align: top;\n",
       "    }\n",
       "\n",
       "    .dataframe thead th {\n",
       "        text-align: right;\n",
       "    }\n",
       "</style>\n",
       "<table border=\"1\" class=\"dataframe\">\n",
       "  <thead>\n",
       "    <tr style=\"text-align: right;\">\n",
       "      <th></th>\n",
       "      <th>names</th>\n",
       "      <th>score</th>\n",
       "      <th>attendence_rate</th>\n",
       "    </tr>\n",
       "  </thead>\n",
       "  <tbody>\n",
       "    <tr>\n",
       "      <th>0</th>\n",
       "      <td>철수</td>\n",
       "      <td>75</td>\n",
       "      <td>80</td>\n",
       "    </tr>\n",
       "    <tr>\n",
       "      <th>1</th>\n",
       "      <td>영희</td>\n",
       "      <td>88</td>\n",
       "      <td>90</td>\n",
       "    </tr>\n",
       "  </tbody>\n",
       "</table>\n",
       "</div>"
      ],
      "text/plain": [
       "  names  score  attendence_rate\n",
       "0    철수     75               80\n",
       "1    영희     88               90"
      ]
     },
     "execution_count": 38,
     "metadata": {},
     "output_type": "execute_result"
    }
   ],
   "source": [
    "df3 = pd.merge(df1, df2, on = \"names\" , how = \"inner\")\n",
    "df3"
   ]
  },
  {
   "cell_type": "markdown",
   "id": "c0124fcf-a2f1-4081-b4f3-45786a0d22cd",
   "metadata": {},
   "source": [
    "### 22번 문제"
   ]
  },
  {
   "cell_type": "code",
   "execution_count": 39,
   "id": "f674160a-4652-40a4-b960-2089822b1585",
   "metadata": {},
   "outputs": [],
   "source": [
    "data = {\n",
    "    '이름': ['철수', '영희', '민수', '지영'],\n",
    "    '나이': [25, 30, 22, 28],\n",
    "    '성별': ['남자', '여자', '남자', '여자']\n",
    "}\n",
    "\n",
    "# 딕셔너리 데이터를 데이터프레임으로 변환\n",
    "df = pd.DataFrame(data)\n",
    "\n",
    "# CSV 파일로 저장\n",
    "csv_file_path = \"data.csv\"\n",
    "df.to_csv(csv_file_path, index=False)\n",
    "\n",
    "# JSON 파일로 저장\n",
    "json_file_path = \"data.json\"\n",
    "df.to_json(json_file_path, orient=\"records\")"
   ]
  },
  {
   "cell_type": "markdown",
   "id": "8c7ff087-d86d-4a31-9f03-97a8a691d775",
   "metadata": {},
   "source": [
    "### 25번 문제"
   ]
  },
  {
   "cell_type": "code",
   "execution_count": 40,
   "id": "c7f14d0e-c500-4243-81db-6f738bb99cfa",
   "metadata": {},
   "outputs": [
    {
     "name": "stdout",
     "output_type": "stream",
     "text": [
      "   학생  성적\n",
      "0  철수  80\n",
      "1  영희  75\n",
      "2  민수  90\n",
      "3  지영  85\n"
     ]
    }
   ],
   "source": [
    "df1 = pd.DataFrame({\"학생\": ['철수', '영희', '민수'],\n",
    "                    \"성적\": [80, 75, 90] })\n",
    "\n",
    "# 시리즈 new_student_scores 생성\n",
    "new_student_scores = pd.DataFrame({\"학생\": ['지영'],\n",
    "                                   \"성적\": [85] })\n",
    "\n",
    "# concat() 함수를 사용하여 데이터프레임과 시리즈를 수직으로 결합\n",
    "result = pd.concat([df1, new_student_scores], ignore_index=True)\n",
    "\n",
    "# 결과 출력\n",
    "print(result)"
   ]
  },
  {
   "cell_type": "code",
   "execution_count": 41,
   "id": "39cff040-c4e0-4c63-ba98-2dc806f1f00e",
   "metadata": {},
   "outputs": [
    {
     "name": "stdout",
     "output_type": "stream",
     "text": [
      "   학생  성적\n",
      "0  민수  90\n",
      "1  영희  75\n",
      "2  지영  85\n",
      "3  철수  80\n"
     ]
    }
   ],
   "source": [
    "df1 = pd.DataFrame({\"학생\": ['철수', '영희', '민수'],\n",
    "                    \"성적\": [80, 75, 90] })\n",
    "\n",
    "# 시리즈 new_student_scores 생성\n",
    "new_student_scores = pd.DataFrame({\"학생\": ['지영'],\n",
    "                                   \"성적\": [85] })\n",
    "\n",
    "# merge() 함수를 사용하여 데이터프레임과 시리즈를 병합\n",
    "result = pd.merge(df1, new_student_scores, how='outer')\n",
    "\n",
    "# 결과 출력\n",
    "print(result)"
   ]
  },
  {
   "cell_type": "markdown",
   "id": "9fe1a920-29cb-43dc-8ba1-848d852baec0",
   "metadata": {},
   "source": [
    "### 26번 문제"
   ]
  },
  {
   "cell_type": "code",
   "execution_count": 47,
   "id": "76a70479-12ff-4959-9e61-2440b684a59c",
   "metadata": {},
   "outputs": [],
   "source": [
    "df1 = pd.DataFrame({\"A\": [1, 2, 3],\n",
    "                    \"B\": [4, 5, 6] },\n",
    "                   index = ['X','Y','Z'])\n",
    "df2 = pd.DataFrame({\"C\": [7, 8, 9],\n",
    "                    \"D\": [10, 11, 12] },\n",
    "                   index = ['X','Y','Z'])\n",
    "s = pd.Series({'X': 13, 'Y': 14, 'Z': 15},\n",
    "                 name = 'E')"
   ]
  },
  {
   "cell_type": "code",
   "execution_count": 50,
   "id": "2fa0555a-9541-4d1a-95ef-f08b0c4390c5",
   "metadata": {},
   "outputs": [
    {
     "name": "stdout",
     "output_type": "stream",
     "text": [
      "pandas.concat() 결과: \n",
      "    A  B  C   D   E\n",
      "X  1  4  7  10  13\n",
      "Y  2  5  8  11  14\n",
      "Z  3  6  9  12  15\n"
     ]
    }
   ],
   "source": [
    "result_df = pd.concat([df1, df2], axis=1)\n",
    "\n",
    "# 시리즈 s를 데이터프레임으로 변환하여 수평으로 결합\n",
    "result = pd.concat([result_df, pd.DataFrame(s)], axis=1)\n",
    "\n",
    "# 결과 출력\n",
    "print(\"pandas.concat() 결과: \\n\",result)"
   ]
  },
  {
   "cell_type": "code",
   "execution_count": 54,
   "id": "7ff16b08-da7c-4269-af6d-817d732144cc",
   "metadata": {},
   "outputs": [
    {
     "name": "stdout",
     "output_type": "stream",
     "text": [
      "     A    B    C     D     X     Y     Z\n",
      "X  1.0  4.0  7.0  10.0   NaN   NaN   NaN\n",
      "Y  2.0  5.0  8.0  11.0   NaN   NaN   NaN\n",
      "Z  3.0  6.0  9.0  12.0   NaN   NaN   NaN\n",
      "E  NaN  NaN  NaN   NaN  13.0  14.0  15.0\n"
     ]
    }
   ],
   "source": [
    "result = pd.merge(df1, df2, left_index=True, right_index=True)\n",
    "\n",
    "# 시리즈 s를 데이터프레임으로 변환하여 병합\n",
    "s_df = pd.DataFrame(s).T\n",
    "\n",
    "# 결과 데이터프레임과 시리즈 s를 수평으로 결합\n",
    "result = pd.concat([result, s_df], axis=1)\n",
    "\n",
    "# 결과 출력\n",
    "print(result)"
   ]
  },
  {
   "cell_type": "markdown",
   "id": "b55ee20b-1479-4a8f-bad9-09aea6bf9329",
   "metadata": {},
   "source": [
    "### 27번 문제"
   ]
  },
  {
   "cell_type": "code",
   "execution_count": 55,
   "id": "44706f69-60bd-4f45-853b-b45a375f3999",
   "metadata": {},
   "outputs": [],
   "source": [
    "df = pd.DataFrame({\"이름\": ['철수', '영희', '민수'],\n",
    "                   \"국어\": [90, 80, 85],\n",
    "                   \"영어\": [85, 95, 70],\n",
    "                   \"수학\": [75, 80, 90] })"
   ]
  },
  {
   "cell_type": "code",
   "execution_count": 57,
   "id": "18c2cdd6-1ef2-408b-9716-a2685ed4beb9",
   "metadata": {},
   "outputs": [
    {
     "data": {
      "text/html": [
       "<div>\n",
       "<style scoped>\n",
       "    .dataframe tbody tr th:only-of-type {\n",
       "        vertical-align: middle;\n",
       "    }\n",
       "\n",
       "    .dataframe tbody tr th {\n",
       "        vertical-align: top;\n",
       "    }\n",
       "\n",
       "    .dataframe thead th {\n",
       "        text-align: right;\n",
       "    }\n",
       "</style>\n",
       "<table border=\"1\" class=\"dataframe\">\n",
       "  <thead>\n",
       "    <tr style=\"text-align: right;\">\n",
       "      <th></th>\n",
       "      <th>이름</th>\n",
       "      <th>국어</th>\n",
       "      <th>영어</th>\n",
       "      <th>수학</th>\n",
       "      <th>총점</th>\n",
       "    </tr>\n",
       "  </thead>\n",
       "  <tbody>\n",
       "    <tr>\n",
       "      <th>0</th>\n",
       "      <td>철수</td>\n",
       "      <td>90</td>\n",
       "      <td>85</td>\n",
       "      <td>75</td>\n",
       "      <td>250</td>\n",
       "    </tr>\n",
       "    <tr>\n",
       "      <th>1</th>\n",
       "      <td>영희</td>\n",
       "      <td>80</td>\n",
       "      <td>95</td>\n",
       "      <td>80</td>\n",
       "      <td>255</td>\n",
       "    </tr>\n",
       "    <tr>\n",
       "      <th>2</th>\n",
       "      <td>민수</td>\n",
       "      <td>85</td>\n",
       "      <td>70</td>\n",
       "      <td>90</td>\n",
       "      <td>245</td>\n",
       "    </tr>\n",
       "  </tbody>\n",
       "</table>\n",
       "</div>"
      ],
      "text/plain": [
       "   이름  국어  영어  수학   총점\n",
       "0  철수  90  85  75  250\n",
       "1  영희  80  95  80  255\n",
       "2  민수  85  70  90  245"
      ]
     },
     "execution_count": 57,
     "metadata": {},
     "output_type": "execute_result"
    }
   ],
   "source": [
    "df['총점'] = df.apply(lambda row: row['국어'] + row['영어'] + row['수학'], axis=1)\n",
    "df"
   ]
  },
  {
   "cell_type": "code",
   "execution_count": 58,
   "id": "0756877f-568a-437e-a236-8b391d9a3c87",
   "metadata": {},
   "outputs": [
    {
     "data": {
      "text/html": [
       "<div>\n",
       "<style scoped>\n",
       "    .dataframe tbody tr th:only-of-type {\n",
       "        vertical-align: middle;\n",
       "    }\n",
       "\n",
       "    .dataframe tbody tr th {\n",
       "        vertical-align: top;\n",
       "    }\n",
       "\n",
       "    .dataframe thead th {\n",
       "        text-align: right;\n",
       "    }\n",
       "</style>\n",
       "<table border=\"1\" class=\"dataframe\">\n",
       "  <thead>\n",
       "    <tr style=\"text-align: right;\">\n",
       "      <th></th>\n",
       "      <th>이름</th>\n",
       "      <th>국어</th>\n",
       "      <th>영어</th>\n",
       "      <th>수학</th>\n",
       "      <th>총점</th>\n",
       "    </tr>\n",
       "  </thead>\n",
       "  <tbody>\n",
       "    <tr>\n",
       "      <th>0</th>\n",
       "      <td>철수</td>\n",
       "      <td>90.0</td>\n",
       "      <td>85.000000</td>\n",
       "      <td>75.000000</td>\n",
       "      <td>250.0</td>\n",
       "    </tr>\n",
       "    <tr>\n",
       "      <th>1</th>\n",
       "      <td>영희</td>\n",
       "      <td>80.0</td>\n",
       "      <td>95.000000</td>\n",
       "      <td>80.000000</td>\n",
       "      <td>255.0</td>\n",
       "    </tr>\n",
       "    <tr>\n",
       "      <th>2</th>\n",
       "      <td>민수</td>\n",
       "      <td>85.0</td>\n",
       "      <td>70.000000</td>\n",
       "      <td>90.000000</td>\n",
       "      <td>245.0</td>\n",
       "    </tr>\n",
       "    <tr>\n",
       "      <th>평균</th>\n",
       "      <td>NaN</td>\n",
       "      <td>85.0</td>\n",
       "      <td>83.333333</td>\n",
       "      <td>81.666667</td>\n",
       "      <td>NaN</td>\n",
       "    </tr>\n",
       "  </tbody>\n",
       "</table>\n",
       "</div>"
      ],
      "text/plain": [
       "     이름    국어         영어         수학     총점\n",
       "0    철수  90.0  85.000000  75.000000  250.0\n",
       "1    영희  80.0  95.000000  80.000000  255.0\n",
       "2    민수  85.0  70.000000  90.000000  245.0\n",
       "평균  NaN  85.0  83.333333  81.666667    NaN"
      ]
     },
     "execution_count": 58,
     "metadata": {},
     "output_type": "execute_result"
    }
   ],
   "source": [
    "df.loc['평균'] = df[['국어', '영어', '수학']].apply(lambda x: x.mean())\n",
    "df"
   ]
  },
  {
   "cell_type": "code",
   "execution_count": null,
   "id": "a2c111fc-4e62-4cce-b772-0531d68bde89",
   "metadata": {},
   "outputs": [],
   "source": []
  }
 ],
 "metadata": {
  "kernelspec": {
   "display_name": "Python 3 (ipykernel)",
   "language": "python",
   "name": "python3"
  },
  "language_info": {
   "codemirror_mode": {
    "name": "ipython",
    "version": 3
   },
   "file_extension": ".py",
   "mimetype": "text/x-python",
   "name": "python",
   "nbconvert_exporter": "python",
   "pygments_lexer": "ipython3",
   "version": "3.12.2"
  }
 },
 "nbformat": 4,
 "nbformat_minor": 5
}
